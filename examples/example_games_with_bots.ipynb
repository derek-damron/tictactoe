{
 "cells": [
  {
   "cell_type": "code",
   "execution_count": 1,
   "metadata": {
    "collapsed": false
   },
   "outputs": [],
   "source": [
    "from tictactoe import *"
   ]
  },
  {
   "cell_type": "markdown",
   "metadata": {},
   "source": [
    "# Game one - Me versus Easy Bot"
   ]
  },
  {
   "cell_type": "code",
   "execution_count": 2,
   "metadata": {
    "collapsed": false
   },
   "outputs": [],
   "source": [
    "my_game = play_game()"
   ]
  },
  {
   "cell_type": "code",
   "execution_count": 3,
   "metadata": {
    "collapsed": false
   },
   "outputs": [
    {
     "name": "stdout",
     "output_type": "stream",
     "text": [
      "   |   |   \n",
      "-----------\n",
      "   |   |   \n",
      "-----------\n",
      "   |   |   \n"
     ]
    }
   ],
   "source": [
    "print(my_game)"
   ]
  },
  {
   "cell_type": "code",
   "execution_count": 4,
   "metadata": {
    "collapsed": false
   },
   "outputs": [
    {
     "name": "stdout",
     "output_type": "stream",
     "text": [
      "   |   |   \n",
      "-----------\n",
      "   | X |   \n",
      "-----------\n",
      "   |   |   \n"
     ]
    }
   ],
   "source": [
    "my_game.move(\"22\")\n",
    "print(my_game)"
   ]
  },
  {
   "cell_type": "code",
   "execution_count": 5,
   "metadata": {
    "collapsed": false
   },
   "outputs": [
    {
     "name": "stdout",
     "output_type": "stream",
     "text": [
      "   |   |   \n",
      "-----------\n",
      "   | X | O \n",
      "-----------\n",
      "   |   |   \n"
     ]
    }
   ],
   "source": [
    "bot_easy(my_game)\n",
    "print(my_game)"
   ]
  },
  {
   "cell_type": "code",
   "execution_count": 6,
   "metadata": {
    "collapsed": false,
    "scrolled": true
   },
   "outputs": [
    {
     "name": "stdout",
     "output_type": "stream",
     "text": [
      "   |   | X \n",
      "-----------\n",
      "   | X | O \n",
      "-----------\n",
      "   |   |   \n"
     ]
    }
   ],
   "source": [
    "my_game.move(\"13\")\n",
    "print(my_game)"
   ]
  },
  {
   "cell_type": "code",
   "execution_count": 7,
   "metadata": {
    "collapsed": false
   },
   "outputs": [
    {
     "name": "stdout",
     "output_type": "stream",
     "text": [
      "   |   | X \n",
      "-----------\n",
      "   | X | O \n",
      "-----------\n",
      " O |   |   \n"
     ]
    }
   ],
   "source": [
    "bot_easy(my_game)\n",
    "print(my_game)"
   ]
  },
  {
   "cell_type": "code",
   "execution_count": 8,
   "metadata": {
    "collapsed": false
   },
   "outputs": [
    {
     "name": "stdout",
     "output_type": "stream",
     "text": [
      "   | X | X \n",
      "-----------\n",
      "   | X | O \n",
      "-----------\n",
      " O |   |   \n"
     ]
    }
   ],
   "source": [
    "my_game.move(\"12\")\n",
    "print(my_game)"
   ]
  },
  {
   "cell_type": "code",
   "execution_count": 9,
   "metadata": {
    "collapsed": false
   },
   "outputs": [
    {
     "name": "stdout",
     "output_type": "stream",
     "text": [
      "   | X | X \n",
      "-----------\n",
      "   | X | O \n",
      "-----------\n",
      " O | O |   \n"
     ]
    }
   ],
   "source": [
    "bot_easy(my_game)\n",
    "print(my_game)"
   ]
  },
  {
   "cell_type": "code",
   "execution_count": 10,
   "metadata": {
    "collapsed": false
   },
   "outputs": [
    {
     "name": "stdout",
     "output_type": "stream",
     "text": [
      " X | X | X \n",
      "-----------\n",
      "   | X | O \n",
      "-----------\n",
      " O | O |   \n"
     ]
    }
   ],
   "source": [
    "my_game.move(\"11\")\n",
    "print(my_game)"
   ]
  },
  {
   "cell_type": "code",
   "execution_count": 11,
   "metadata": {
    "collapsed": false
   },
   "outputs": [
    {
     "data": {
      "text/plain": [
       "'X win'"
      ]
     },
     "execution_count": 11,
     "metadata": {},
     "output_type": "execute_result"
    }
   ],
   "source": [
    "my_game.outcome"
   ]
  },
  {
   "cell_type": "markdown",
   "metadata": {},
   "source": [
    "# Game two - Easy Bot versus self"
   ]
  },
  {
   "cell_type": "code",
   "execution_count": 12,
   "metadata": {
    "collapsed": true
   },
   "outputs": [],
   "source": [
    "my_game = play_game()"
   ]
  },
  {
   "cell_type": "code",
   "execution_count": 13,
   "metadata": {
    "collapsed": false
   },
   "outputs": [
    {
     "name": "stdout",
     "output_type": "stream",
     "text": [
      " X |   | X \n",
      "-----------\n",
      " X | O | O \n",
      "-----------\n",
      " X |   | O \n"
     ]
    }
   ],
   "source": [
    "while my_game.outcome is None:\n",
    "    bot_easy(my_game)\n",
    "print(my_game)"
   ]
  },
  {
   "cell_type": "code",
   "execution_count": 12,
   "metadata": {
    "collapsed": false
   },
   "outputs": [
    {
     "data": {
      "text/plain": [
       "'X win'"
      ]
     },
     "execution_count": 12,
     "metadata": {},
     "output_type": "execute_result"
    }
   ],
   "source": [
    "my_game.outcome"
   ]
  },
  {
   "cell_type": "markdown",
   "metadata": {},
   "source": [
    "# Game three - Easy Bot versus Medium Bot"
   ]
  },
  {
   "cell_type": "code",
   "execution_count": 14,
   "metadata": {
    "collapsed": true
   },
   "outputs": [],
   "source": [
    "my_game = play_game()"
   ]
  },
  {
   "cell_type": "code",
   "execution_count": 15,
   "metadata": {
    "collapsed": false
   },
   "outputs": [
    {
     "name": "stdout",
     "output_type": "stream",
     "text": [
      " X | X | O \n",
      "-----------\n",
      "   | X | O \n",
      "-----------\n",
      " O |   | X \n"
     ]
    }
   ],
   "source": [
    "while my_game.outcome is None:\n",
    "    if my_game.current_move == 'X':\n",
    "        bot_medium(my_game)\n",
    "    else:\n",
    "        bot_easy(my_game)\n",
    "print(my_game)"
   ]
  },
  {
   "cell_type": "code",
   "execution_count": 16,
   "metadata": {
    "collapsed": false
   },
   "outputs": [
    {
     "data": {
      "text/plain": [
       "'X win'"
      ]
     },
     "execution_count": 16,
     "metadata": {},
     "output_type": "execute_result"
    }
   ],
   "source": [
    "my_game.outcome"
   ]
  }
 ],
 "metadata": {
  "anaconda-cloud": {},
  "kernelspec": {
   "display_name": "Python [tictactoe]",
   "language": "python",
   "name": "Python [tictactoe]"
  },
  "language_info": {
   "codemirror_mode": {
    "name": "ipython",
    "version": 3
   },
   "file_extension": ".py",
   "mimetype": "text/x-python",
   "name": "python",
   "nbconvert_exporter": "python",
   "pygments_lexer": "ipython3",
   "version": "3.6.2"
  }
 },
 "nbformat": 4,
 "nbformat_minor": 0
}
