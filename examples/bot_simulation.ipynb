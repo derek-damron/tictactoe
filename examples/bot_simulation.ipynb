{
 "cells": [
  {
   "cell_type": "code",
   "execution_count": 8,
   "metadata": {
    "collapsed": true
   },
   "outputs": [],
   "source": [
    "from tictactoe import *\n",
    "from collections import Counter"
   ]
  },
  {
   "cell_type": "markdown",
   "metadata": {},
   "source": [
    "# Easy bot versus self"
   ]
  },
  {
   "cell_type": "code",
   "execution_count": 10,
   "metadata": {
    "collapsed": false
   },
   "outputs": [
    {
     "data": {
      "text/plain": [
       "Counter({'Draw': 131, 'O win': 271, 'X win': 598})"
      ]
     },
     "execution_count": 10,
     "metadata": {},
     "output_type": "execute_result"
    }
   ],
   "source": [
    "results = []\n",
    "for i in range(1000):\n",
    "    g = start_game()\n",
    "    while g.outcome is None:\n",
    "        bot_easy(g)\n",
    "    results += [g.outcome]\n",
    "Counter(results)"
   ]
  },
  {
   "cell_type": "markdown",
   "metadata": {},
   "source": [
    "Bias towards X"
   ]
  },
  {
   "cell_type": "markdown",
   "metadata": {},
   "source": [
    "# Easy bot versus medium bot"
   ]
  },
  {
   "cell_type": "code",
   "execution_count": 11,
   "metadata": {
    "collapsed": false
   },
   "outputs": [
    {
     "data": {
      "text/plain": [
       "Counter({'Draw': 245, 'O win': 687, 'X win': 68})"
      ]
     },
     "execution_count": 11,
     "metadata": {},
     "output_type": "execute_result"
    }
   ],
   "source": [
    "results = []\n",
    "for i in range(1000):\n",
    "    g = start_game()\n",
    "    while g.outcome is None:\n",
    "        if g.current_move == 'X':\n",
    "            bot_easy(g)\n",
    "        else:\n",
    "            bot_medium(g)\n",
    "    results += [g.outcome]\n",
    "Counter(results)"
   ]
  },
  {
   "cell_type": "markdown",
   "metadata": {},
   "source": [
    "Smarter play overcomes X bias in easy bot self-play"
   ]
  },
  {
   "cell_type": "markdown",
   "metadata": {},
   "source": [
    "# Medium bot versus easy bot"
   ]
  },
  {
   "cell_type": "code",
   "execution_count": 12,
   "metadata": {
    "collapsed": false
   },
   "outputs": [
    {
     "data": {
      "text/plain": [
       "Counter({'Draw': 81, 'O win': 13, 'X win': 906})"
      ]
     },
     "execution_count": 12,
     "metadata": {},
     "output_type": "execute_result"
    }
   ],
   "source": [
    "results = []\n",
    "for i in range(1000):\n",
    "    g = start_game()\n",
    "    while g.outcome is None:\n",
    "        if g.current_move == 'X':\n",
    "            bot_medium(g)\n",
    "        else:\n",
    "            bot_easy(g)\n",
    "    results += [g.outcome]\n",
    "Counter(results)"
   ]
  },
  {
   "cell_type": "markdown",
   "metadata": {},
   "source": [
    "Wins over 90% of the time"
   ]
  },
  {
   "cell_type": "markdown",
   "metadata": {},
   "source": [
    "# Medium bot versus self"
   ]
  },
  {
   "cell_type": "code",
   "execution_count": 14,
   "metadata": {
    "collapsed": false
   },
   "outputs": [
    {
     "data": {
      "text/plain": [
       "Counter({'Draw': 510, 'O win': 169, 'X win': 321})"
      ]
     },
     "execution_count": 14,
     "metadata": {},
     "output_type": "execute_result"
    }
   ],
   "source": [
    "results = []\n",
    "for i in range(1000):\n",
    "    g = start_game()\n",
    "    while g.outcome is None:\n",
    "        bot_medium(g)\n",
    "    results += [g.outcome]\n",
    "Counter(results)"
   ]
  },
  {
   "cell_type": "markdown",
   "metadata": {},
   "source": [
    "50% draw, bias towards X if not a draw"
   ]
  }
 ],
 "metadata": {
  "kernelspec": {
   "display_name": "Python [tictactoe]",
   "language": "python",
   "name": "Python [tictactoe]"
  },
  "language_info": {
   "codemirror_mode": {
    "name": "ipython",
    "version": 3
   },
   "file_extension": ".py",
   "mimetype": "text/x-python",
   "name": "python",
   "nbconvert_exporter": "python",
   "pygments_lexer": "ipython3",
   "version": "3.6.2"
  }
 },
 "nbformat": 4,
 "nbformat_minor": 0
}
